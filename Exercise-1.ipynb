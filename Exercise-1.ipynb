{
 "cells": [
  {
   "cell_type": "markdown",
   "id": "8881da31",
   "metadata": {},
   "source": [
    "# Python Exercise 1"
   ]
  },
  {
   "cell_type": "code",
   "execution_count": 1,
   "id": "a4da934a",
   "metadata": {},
   "outputs": [
    {
     "data": {
      "text/plain": [
       "2401"
      ]
     },
     "execution_count": 1,
     "metadata": {},
     "output_type": "execute_result"
    }
   ],
   "source": [
    "7**4"
   ]
  },
  {
   "cell_type": "code",
   "execution_count": 2,
   "id": "f86ef3a8",
   "metadata": {},
   "outputs": [],
   "source": [
    "s = \"Hi there Yogesh!\""
   ]
  },
  {
   "cell_type": "code",
   "execution_count": 7,
   "id": "8a313d57",
   "metadata": {},
   "outputs": [
    {
     "data": {
      "text/plain": [
       "str"
      ]
     },
     "execution_count": 7,
     "metadata": {},
     "output_type": "execute_result"
    }
   ],
   "source": [
    "type(s)"
   ]
  },
  {
   "cell_type": "code",
   "execution_count": 8,
   "id": "85683f2e",
   "metadata": {},
   "outputs": [
    {
     "data": {
      "text/plain": [
       "['Hi', 'there', 'Yogesh!']"
      ]
     },
     "execution_count": 8,
     "metadata": {},
     "output_type": "execute_result"
    }
   ],
   "source": [
    "s.split()"
   ]
  },
  {
   "cell_type": "code",
   "execution_count": 9,
   "id": "9368be42",
   "metadata": {},
   "outputs": [],
   "source": [
    "planet = \"Earth\"\n",
    "diameter = 12742"
   ]
  },
  {
   "cell_type": "code",
   "execution_count": 10,
   "id": "d3ecef3a",
   "metadata": {},
   "outputs": [
    {
     "data": {
      "text/plain": [
       "'The diameter of Earth is 12742 kilometers'"
      ]
     },
     "execution_count": 10,
     "metadata": {},
     "output_type": "execute_result"
    }
   ],
   "source": [
    "'The diameter of {} is {} kilometers'.format(planet,diameter)"
   ]
  },
  {
   "cell_type": "code",
   "execution_count": 11,
   "id": "533244df",
   "metadata": {},
   "outputs": [],
   "source": [
    "lst = [1,2,[3,4],[5,[100,200,['hello']],23,11],1,7]"
   ]
  },
  {
   "cell_type": "code",
   "execution_count": 14,
   "id": "26394b62",
   "metadata": {},
   "outputs": [
    {
     "data": {
      "text/plain": [
       "['hello']"
      ]
     },
     "execution_count": 14,
     "metadata": {},
     "output_type": "execute_result"
    }
   ],
   "source": [
    "lst[3][1][2]"
   ]
  },
  {
   "cell_type": "code",
   "execution_count": 15,
   "id": "857cbbdb",
   "metadata": {},
   "outputs": [],
   "source": [
    "d = {'k1':[1,2,3,{'tricky':['oh','man','inception',{'target':[1,2,3,'hello']}]}]}"
   ]
  },
  {
   "cell_type": "code",
   "execution_count": 22,
   "id": "e4aaa253",
   "metadata": {},
   "outputs": [
    {
     "data": {
      "text/plain": [
       "'hello'"
      ]
     },
     "execution_count": 22,
     "metadata": {},
     "output_type": "execute_result"
    }
   ],
   "source": [
    "d['k1'][3]['tricky'][3]['target'][3]"
   ]
  },
  {
   "cell_type": "code",
   "execution_count": 24,
   "id": "012fa653",
   "metadata": {},
   "outputs": [],
   "source": [
    "email='omkarh316622@gmail.com'"
   ]
  },
  {
   "cell_type": "code",
   "execution_count": 26,
   "id": "6de3c9ce",
   "metadata": {},
   "outputs": [
    {
     "data": {
      "text/plain": [
       "['omkarh316622', 'gmail.com']"
      ]
     },
     "execution_count": 26,
     "metadata": {},
     "output_type": "execute_result"
    }
   ],
   "source": [
    "email.split('@')"
   ]
  },
  {
   "cell_type": "code",
   "execution_count": 27,
   "id": "8c3a4ed2",
   "metadata": {},
   "outputs": [
    {
     "data": {
      "text/plain": [
       "'gmail.com'"
      ]
     },
     "execution_count": 27,
     "metadata": {},
     "output_type": "execute_result"
    }
   ],
   "source": [
    "email.split('@')[1]"
   ]
  },
  {
   "cell_type": "code",
   "execution_count": 28,
   "id": "521dc398",
   "metadata": {},
   "outputs": [
    {
     "data": {
      "text/plain": [
       "'gmail.com'"
      ]
     },
     "execution_count": 28,
     "metadata": {},
     "output_type": "execute_result"
    }
   ],
   "source": [
    "email.split('@')[-1]"
   ]
  },
  {
   "cell_type": "code",
   "execution_count": 29,
   "id": "ca6dcf6e",
   "metadata": {},
   "outputs": [],
   "source": [
    "def domain(email):\n",
    "    return email.split('@')[1]"
   ]
  },
  {
   "cell_type": "code",
   "execution_count": 31,
   "id": "8502e195",
   "metadata": {},
   "outputs": [
    {
     "data": {
      "text/plain": [
       "'gmail.com'"
      ]
     },
     "execution_count": 31,
     "metadata": {},
     "output_type": "execute_result"
    }
   ],
   "source": [
    "domain('abc@gmail.com')"
   ]
  },
  {
   "cell_type": "code",
   "execution_count": 32,
   "id": "e8b5ed62",
   "metadata": {},
   "outputs": [
    {
     "data": {
      "text/plain": [
       "'yahoo.com'"
      ]
     },
     "execution_count": 32,
     "metadata": {},
     "output_type": "execute_result"
    }
   ],
   "source": [
    "domain('abc@yahoo.com')"
   ]
  },
  {
   "cell_type": "code",
   "execution_count": 33,
   "id": "330032d9",
   "metadata": {},
   "outputs": [],
   "source": [
    "#findDog('Is there a dog here?')"
   ]
  },
  {
   "cell_type": "code",
   "execution_count": 34,
   "id": "6a85be92",
   "metadata": {},
   "outputs": [],
   "source": [
    "def find_dog(s):\n",
    "    return 'dog' in s.lower().split()"
   ]
  },
  {
   "cell_type": "code",
   "execution_count": 35,
   "id": "45a880d7",
   "metadata": {},
   "outputs": [
    {
     "data": {
      "text/plain": [
       "True"
      ]
     },
     "execution_count": 35,
     "metadata": {},
     "output_type": "execute_result"
    }
   ],
   "source": [
    "find_dog('Is there a dog here?')"
   ]
  },
  {
   "cell_type": "code",
   "execution_count": 36,
   "id": "817c0731",
   "metadata": {},
   "outputs": [],
   "source": [
    "def countDog(s):\n",
    "    c=0\n",
    "    for v in s.lower().split():\n",
    "        if v=='dog':\n",
    "            c=c+1\n",
    "    return c"
   ]
  },
  {
   "cell_type": "code",
   "execution_count": 37,
   "id": "12015109",
   "metadata": {},
   "outputs": [
    {
     "data": {
      "text/plain": [
       "2"
      ]
     },
     "execution_count": 37,
     "metadata": {},
     "output_type": "execute_result"
    }
   ],
   "source": [
    "countDog('this dog is faster than that dog')"
   ]
  },
  {
   "cell_type": "code",
   "execution_count": 38,
   "id": "065b36ca",
   "metadata": {},
   "outputs": [],
   "source": [
    "seq = ['soup','dog','salad','cat','great']"
   ]
  },
  {
   "cell_type": "code",
   "execution_count": 39,
   "id": "d7e64187",
   "metadata": {},
   "outputs": [],
   "source": [
    "# don't start with the letter 's'"
   ]
  },
  {
   "cell_type": "code",
   "execution_count": 42,
   "id": "9aabee24",
   "metadata": {},
   "outputs": [],
   "source": [
    "lam1=lambda v:v[0]!='s'"
   ]
  },
  {
   "cell_type": "code",
   "execution_count": 43,
   "id": "0c0959d1",
   "metadata": {},
   "outputs": [
    {
     "data": {
      "text/plain": [
       "['dog', 'cat', 'great']"
      ]
     },
     "execution_count": 43,
     "metadata": {},
     "output_type": "execute_result"
    }
   ],
   "source": [
    "list(filter(lam1,seq))"
   ]
  },
  {
   "cell_type": "code",
   "execution_count": 44,
   "id": "e50b802e",
   "metadata": {},
   "outputs": [
    {
     "data": {
      "text/plain": [
       "'You are driving a little too fast, and a police officer stops you. Write a function to return one of 3 possible results: \"No ticket\", \"Small ticket\", or \"Big Ticket\". If your speed is 60 or less, the result is \"No Ticket\". If speed is between 61 and 80 inclusive, the result is \"Small Ticket\". If speed is 81 or more, the result is \"Big Ticket\". Unless it is your birthday (encoded as a boolean value in the parameters of the function) -- on your birthday, your speed can be 5 higher in all cases. '"
      ]
     },
     "execution_count": 44,
     "metadata": {},
     "output_type": "execute_result"
    }
   ],
   "source": [
    "\"\"\"You are driving a little too fast, and a police officer stops you.\n",
    "Write a function to return one of 3 possible results:\n",
    "\"No ticket\", \"Small ticket\", or \"Big Ticket\". \n",
    "If your speed is 60 or less, the result is \"No Ticket\".\n",
    "If speed is between 61 and 80 inclusive, the result is \"Small Ticket\".\n",
    "If speed is 81 or more, the result is \"Big Ticket\".\n",
    "Unless it is your birthday (encoded as a boolean value in the parameters of the function) --\n",
    "on your birthday, your speed can be 5 higher in all cases. \"\"\""
   ]
  },
  {
   "cell_type": "code",
   "execution_count": 45,
   "id": "7d0be2bb",
   "metadata": {},
   "outputs": [],
   "source": [
    "def caught_speeding(speed,birthday):\n",
    "    if birthday:\n",
    "        speed2=speed-5\n",
    "    else:\n",
    "        speed2=speed\n",
    "    if speed2>80:\n",
    "        return \"BIG TICKET\"\n",
    "    elif speed2>60:\n",
    "        return \"SMALL TICKET\"\n",
    "    else:\n",
    "        return \"NO TICKET\""
   ]
  },
  {
   "cell_type": "code",
   "execution_count": 46,
   "id": "54e1a94f",
   "metadata": {},
   "outputs": [
    {
     "data": {
      "text/plain": [
       "'SMALL TICKET'"
      ]
     },
     "execution_count": 46,
     "metadata": {},
     "output_type": "execute_result"
    }
   ],
   "source": [
    "caught_speeding(81,True)"
   ]
  },
  {
   "cell_type": "code",
   "execution_count": 47,
   "id": "f6685080",
   "metadata": {},
   "outputs": [
    {
     "data": {
      "text/plain": [
       "'BIG TICKET'"
      ]
     },
     "execution_count": 47,
     "metadata": {},
     "output_type": "execute_result"
    }
   ],
   "source": [
    "caught_speeding(81,False)"
   ]
  },
  {
   "cell_type": "code",
   "execution_count": 48,
   "id": "2eaa793a",
   "metadata": {},
   "outputs": [
    {
     "data": {
      "text/plain": [
       "\"Given a string print number num by extracting all the\\ndigits from the string as in string\\nPrint negative number if the first character in \\nstring is '-'\\neg.\\n-123abcd should return -123,abcd456-->456,fdhfh78dsd89--->7889,-56dssd78-->-5678\""
      ]
     },
     "execution_count": 48,
     "metadata": {},
     "output_type": "execute_result"
    }
   ],
   "source": [
    "\"\"\"Given a string print number num by extracting all the\n",
    "digits from the string as in string\n",
    "Print negative number if the first character in \n",
    "string is '-'\n",
    "eg.\n",
    "-123abcd should return -123,abcd456-->456,fdhfh78dsd89--->7889,-56dssd78-->-5678\"\"\""
   ]
  },
  {
   "cell_type": "code",
   "execution_count": 49,
   "id": "56ce5d3b",
   "metadata": {},
   "outputs": [
    {
     "name": "stdout",
     "output_type": "stream",
     "text": [
      "Enter the input:-123abcd\n",
      "-123\n"
     ]
    }
   ],
   "source": [
    "s=input(\"Enter the input:\")\n",
    "num=\"\"\n",
    "a=[0,1,2,3,4,5,6,7,8,9]\n",
    "if s==\"\":\n",
    "    print(\"Enter some string:\")\n",
    "else:\n",
    "    if s[0]==\"-\":\n",
    "        num=num+s[0]\n",
    "    for c in s:\n",
    "        if c in str(a):\n",
    "            num=num+c\n",
    "    print(num)"
   ]
  },
  {
   "cell_type": "code",
   "execution_count": 58,
   "id": "25aa230e",
   "metadata": {},
   "outputs": [
    {
     "data": {
      "text/plain": [
       "'-123abcd'"
      ]
     },
     "execution_count": 58,
     "metadata": {},
     "output_type": "execute_result"
    }
   ],
   "source": [
    "s"
   ]
  },
  {
   "cell_type": "code",
   "execution_count": 57,
   "id": "d6e51f18",
   "metadata": {},
   "outputs": [
    {
     "data": {
      "text/plain": [
       "'Q2\\nWAP to check whether a number is palindrome or not on following conditions.\\n1. take input number\\n2. add number and its reverse\\n3. check that number is palindrome or not,if not then sum and its reverse'"
      ]
     },
     "execution_count": 57,
     "metadata": {},
     "output_type": "execute_result"
    }
   ],
   "source": [
    "\"\"\"Q2\n",
    "WAP to check whether a number is palindrome or not on following conditions.\n",
    "1. take input number\n",
    "2. add number and its reverse\n",
    "3. check that number is palindrome or not,if not then sum and its reverse\"\"\""
   ]
  },
  {
   "cell_type": "code",
   "execution_count": 61,
   "id": "19d86fac",
   "metadata": {},
   "outputs": [
    {
     "name": "stdout",
     "output_type": "stream",
     "text": [
      "Enter the number: 78\n",
      "Number is:  726\n",
      "Reverse is 627\n",
      "Number is:  1353\n",
      "Reverse is 3531\n",
      "Number is:  4884\n",
      "Reverse is 4884\n",
      "Palindrome is : 4884\n"
     ]
    }
   ],
   "source": [
    "num1=input(\"Enter the number: \")\n",
    "num2=int(num1[::-1])\n",
    "num3=str(int(num1)+num2)\n",
    "while num3!=num3[::-1]:\n",
    "    num3=str(int(num3)+int(num3[::-1]))\n",
    "    print(\"Number is: \",num3)\n",
    "    print(\"Reverse is\",num3[::-1])\n",
    "print(\"Palindrome is :\",num3)"
   ]
  },
  {
   "cell_type": "code",
   "execution_count": 62,
   "id": "6ff7fdeb",
   "metadata": {},
   "outputs": [
    {
     "data": {
      "text/plain": [
       "'Write a python function to find and display the five \\ndigit number in which the first digit is two more than \\nthe second,the second digit is two more than the third,\\nthe fourth digit is two less than the third, and the \\nlast digit is two more than\\nthe fourth.The sum of the third,fourth and fifth digits\\nequals the first.The sum of all the digits is 19'"
      ]
     },
     "execution_count": 62,
     "metadata": {},
     "output_type": "execute_result"
    }
   ],
   "source": [
    "\"\"\"Write a python function to find and display the five \n",
    "digit number in which the first digit is two more than \n",
    "the second,the second digit is two more than the third,\n",
    "the fourth digit is two less than the third, and the \n",
    "last digit is two more than\n",
    "the fourth.The sum of the third,fourth and fifth digits\n",
    "equals the first.The sum of all the digits is 19\"\"\""
   ]
  },
  {
   "cell_type": "code",
   "execution_count": 65,
   "id": "6df16e02",
   "metadata": {},
   "outputs": [
    {
     "name": "stdout",
     "output_type": "stream",
     "text": [
      "75313\n"
     ]
    }
   ],
   "source": [
    "def fivedigitnum():\n",
    "    n=[9,8,7,6,5,4,3,2,1,0]\n",
    "    for num in n:\n",
    "        num1=num\n",
    "        num2=num1-2\n",
    "        num3=num2-2\n",
    "        num4=num3-2\n",
    "        num5=num4+2\n",
    "        if num3+num4+num5==num1:\n",
    "            if num1+num2+num3+num4+num5==19:\n",
    "                return int(str(num1)+str(num2)+str(num3)+str(num4)+str(num5))\n",
    "print(fivedigitnum())"
   ]
  },
  {
   "cell_type": "code",
   "execution_count": null,
   "id": "c9b94c8f",
   "metadata": {},
   "outputs": [],
   "source": []
  }
 ],
 "metadata": {
  "kernelspec": {
   "display_name": "Python 3 (ipykernel)",
   "language": "python",
   "name": "python3"
  },
  "language_info": {
   "codemirror_mode": {
    "name": "ipython",
    "version": 3
   },
   "file_extension": ".py",
   "mimetype": "text/x-python",
   "name": "python",
   "nbconvert_exporter": "python",
   "pygments_lexer": "ipython3",
   "version": "3.9.12"
  }
 },
 "nbformat": 4,
 "nbformat_minor": 5
}
