{
 "cells": [
  {
   "cell_type": "markdown",
   "id": "8ad1a76b",
   "metadata": {},
   "source": [
    "Interactive Dictionary"
   ]
  },
  {
   "cell_type": "code",
   "execution_count": null,
   "id": "6912f38d",
   "metadata": {},
   "outputs": [],
   "source": [
    "## En"
   ]
  },
  {
   "cell_type": "code",
   "execution_count": 1,
   "id": "95359454",
   "metadata": {},
   "outputs": [
    {
     "name": "stdout",
     "output_type": "stream",
     "text": [
      "Enter the word: new york\n",
      "The 11th state of the United States of America, located in the northeast.\n",
      "The largest city in the state of New York and the largest city in the United States.\n"
     ]
    }
   ],
   "source": [
    "import json\n",
    "data=json.load(open(\"data25Aug\"))\n",
    "\n",
    "def get_meaning(w):\n",
    "    w=w.lower()\n",
    "    if w in data:\n",
    "        return data[w]\n",
    "    elif w.title() in data:\n",
    "        return data[w.title()]\n",
    "    elif w.upper() in data:\n",
    "        return data[w.upper()]\n",
    "    elif len(get_close_matches(w,data.keys()))>0:\n",
    "        yn=input(\"Did you mean %s instead?Enter Y if Yes or N if No\"%get_close_matches(w,data.keys())[0])\n",
    "        if yn==\"Y\":\n",
    "            return data[get_close_matches(w,data.keys())[0]]\n",
    "        elif yn==\"N\":\n",
    "            return \"The word doesn't exist.Please double check it!!!!\"\n",
    "        else:\n",
    "            return \"sorry we didnt understand your entry!!!!\"\n",
    "    else:\n",
    "        return \"The word doesn't exist!!!!\"\n",
    "word=input(\"Enter the word: \")\n",
    "output=get_meaning(word)\n",
    "if type(output)==list:\n",
    "    for i in output:\n",
    "        print(i)\n",
    "else:\n",
    "    print(output)\n"
   ]
  },
  {
   "cell_type": "code",
   "execution_count": null,
   "id": "08973527",
   "metadata": {},
   "outputs": [],
   "source": []
  }
 ],
 "metadata": {
  "kernelspec": {
   "display_name": "Python 3 (ipykernel)",
   "language": "python",
   "name": "python3"
  },
  "language_info": {
   "codemirror_mode": {
    "name": "ipython",
    "version": 3
   },
   "file_extension": ".py",
   "mimetype": "text/x-python",
   "name": "python",
   "nbconvert_exporter": "python",
   "pygments_lexer": "ipython3",
   "version": "3.9.12"
  }
 },
 "nbformat": 4,
 "nbformat_minor": 5
}
